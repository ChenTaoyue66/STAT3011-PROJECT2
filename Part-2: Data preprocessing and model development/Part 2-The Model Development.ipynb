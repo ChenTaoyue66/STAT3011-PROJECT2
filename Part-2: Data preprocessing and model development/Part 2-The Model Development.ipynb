{
 "cells": [
  {
   "cell_type": "code",
   "execution_count": 16,
   "id": "7b0d031c",
   "metadata": {},
   "outputs": [],
   "source": [
    "import numpy as np\n",
    "import pandas as pd\n",
    "import matplotlib.pyplot as plt\n",
    "import seaborn as sns\n",
    "import plotly.express as px\n",
    "import plotly.graph_objects as go\n",
    "from plotly.subplots import make_subplots"
   ]
  },
  {
   "cell_type": "markdown",
   "id": "4506cc6b",
   "metadata": {},
   "source": [
    "# Model development"
   ]
  },
  {
   "cell_type": "code",
   "execution_count": 17,
   "id": "830ce889",
   "metadata": {},
   "outputs": [
    {
     "data": {
      "text/html": [
       "<div>\n",
       "<style scoped>\n",
       "    .dataframe tbody tr th:only-of-type {\n",
       "        vertical-align: middle;\n",
       "    }\n",
       "\n",
       "    .dataframe tbody tr th {\n",
       "        vertical-align: top;\n",
       "    }\n",
       "\n",
       "    .dataframe thead th {\n",
       "        text-align: right;\n",
       "    }\n",
       "</style>\n",
       "<table border=\"1\" class=\"dataframe\">\n",
       "  <thead>\n",
       "    <tr style=\"text-align: right;\">\n",
       "      <th></th>\n",
       "      <th>ID</th>\n",
       "      <th>Title</th>\n",
       "      <th>Year</th>\n",
       "      <th>Age</th>\n",
       "      <th>IMDb</th>\n",
       "      <th>Rotten Tomatoes</th>\n",
       "      <th>Netflix</th>\n",
       "      <th>Hulu</th>\n",
       "      <th>Prime Video</th>\n",
       "      <th>Disney+</th>\n",
       "      <th>...</th>\n",
       "      <th>News</th>\n",
       "      <th>Reality-TV</th>\n",
       "      <th>Romance</th>\n",
       "      <th>Sci-Fi</th>\n",
       "      <th>Short</th>\n",
       "      <th>Sport</th>\n",
       "      <th>Talk-Show</th>\n",
       "      <th>Thriller</th>\n",
       "      <th>War</th>\n",
       "      <th>Western</th>\n",
       "    </tr>\n",
       "  </thead>\n",
       "  <tbody>\n",
       "    <tr>\n",
       "      <th>0</th>\n",
       "      <td>1</td>\n",
       "      <td>Inception</td>\n",
       "      <td>2010</td>\n",
       "      <td>13+</td>\n",
       "      <td>8.8</td>\n",
       "      <td>87%</td>\n",
       "      <td>1</td>\n",
       "      <td>0</td>\n",
       "      <td>0</td>\n",
       "      <td>0</td>\n",
       "      <td>...</td>\n",
       "      <td>0</td>\n",
       "      <td>0</td>\n",
       "      <td>0</td>\n",
       "      <td>1</td>\n",
       "      <td>0</td>\n",
       "      <td>0</td>\n",
       "      <td>0</td>\n",
       "      <td>1</td>\n",
       "      <td>0</td>\n",
       "      <td>0</td>\n",
       "    </tr>\n",
       "    <tr>\n",
       "      <th>1</th>\n",
       "      <td>2</td>\n",
       "      <td>The Matrix</td>\n",
       "      <td>1999</td>\n",
       "      <td>18+</td>\n",
       "      <td>8.7</td>\n",
       "      <td>87%</td>\n",
       "      <td>1</td>\n",
       "      <td>0</td>\n",
       "      <td>0</td>\n",
       "      <td>0</td>\n",
       "      <td>...</td>\n",
       "      <td>0</td>\n",
       "      <td>0</td>\n",
       "      <td>0</td>\n",
       "      <td>1</td>\n",
       "      <td>0</td>\n",
       "      <td>0</td>\n",
       "      <td>0</td>\n",
       "      <td>0</td>\n",
       "      <td>0</td>\n",
       "      <td>0</td>\n",
       "    </tr>\n",
       "    <tr>\n",
       "      <th>2</th>\n",
       "      <td>3</td>\n",
       "      <td>Avengers: Infinity War</td>\n",
       "      <td>2018</td>\n",
       "      <td>13+</td>\n",
       "      <td>8.5</td>\n",
       "      <td>84%</td>\n",
       "      <td>1</td>\n",
       "      <td>0</td>\n",
       "      <td>0</td>\n",
       "      <td>0</td>\n",
       "      <td>...</td>\n",
       "      <td>0</td>\n",
       "      <td>0</td>\n",
       "      <td>0</td>\n",
       "      <td>1</td>\n",
       "      <td>0</td>\n",
       "      <td>0</td>\n",
       "      <td>0</td>\n",
       "      <td>0</td>\n",
       "      <td>0</td>\n",
       "      <td>0</td>\n",
       "    </tr>\n",
       "    <tr>\n",
       "      <th>3</th>\n",
       "      <td>4</td>\n",
       "      <td>Back to the Future</td>\n",
       "      <td>1985</td>\n",
       "      <td>7+</td>\n",
       "      <td>8.5</td>\n",
       "      <td>96%</td>\n",
       "      <td>1</td>\n",
       "      <td>0</td>\n",
       "      <td>0</td>\n",
       "      <td>0</td>\n",
       "      <td>...</td>\n",
       "      <td>0</td>\n",
       "      <td>0</td>\n",
       "      <td>0</td>\n",
       "      <td>1</td>\n",
       "      <td>0</td>\n",
       "      <td>0</td>\n",
       "      <td>0</td>\n",
       "      <td>0</td>\n",
       "      <td>0</td>\n",
       "      <td>0</td>\n",
       "    </tr>\n",
       "    <tr>\n",
       "      <th>4</th>\n",
       "      <td>5</td>\n",
       "      <td>The Good, the Bad and the Ugly</td>\n",
       "      <td>1966</td>\n",
       "      <td>18+</td>\n",
       "      <td>8.8</td>\n",
       "      <td>97%</td>\n",
       "      <td>1</td>\n",
       "      <td>0</td>\n",
       "      <td>1</td>\n",
       "      <td>0</td>\n",
       "      <td>...</td>\n",
       "      <td>0</td>\n",
       "      <td>0</td>\n",
       "      <td>0</td>\n",
       "      <td>0</td>\n",
       "      <td>0</td>\n",
       "      <td>0</td>\n",
       "      <td>0</td>\n",
       "      <td>0</td>\n",
       "      <td>0</td>\n",
       "      <td>1</td>\n",
       "    </tr>\n",
       "    <tr>\n",
       "      <th>...</th>\n",
       "      <td>...</td>\n",
       "      <td>...</td>\n",
       "      <td>...</td>\n",
       "      <td>...</td>\n",
       "      <td>...</td>\n",
       "      <td>...</td>\n",
       "      <td>...</td>\n",
       "      <td>...</td>\n",
       "      <td>...</td>\n",
       "      <td>...</td>\n",
       "      <td>...</td>\n",
       "      <td>...</td>\n",
       "      <td>...</td>\n",
       "      <td>...</td>\n",
       "      <td>...</td>\n",
       "      <td>...</td>\n",
       "      <td>...</td>\n",
       "      <td>...</td>\n",
       "      <td>...</td>\n",
       "      <td>...</td>\n",
       "      <td>...</td>\n",
       "    </tr>\n",
       "    <tr>\n",
       "      <th>16739</th>\n",
       "      <td>16740</td>\n",
       "      <td>The Ghosts of Buxley Hall</td>\n",
       "      <td>1980</td>\n",
       "      <td>NaN</td>\n",
       "      <td>6.2</td>\n",
       "      <td>NaN</td>\n",
       "      <td>0</td>\n",
       "      <td>0</td>\n",
       "      <td>0</td>\n",
       "      <td>1</td>\n",
       "      <td>...</td>\n",
       "      <td>0</td>\n",
       "      <td>0</td>\n",
       "      <td>0</td>\n",
       "      <td>0</td>\n",
       "      <td>0</td>\n",
       "      <td>0</td>\n",
       "      <td>0</td>\n",
       "      <td>0</td>\n",
       "      <td>0</td>\n",
       "      <td>0</td>\n",
       "    </tr>\n",
       "    <tr>\n",
       "      <th>16740</th>\n",
       "      <td>16741</td>\n",
       "      <td>The Poof Point</td>\n",
       "      <td>2001</td>\n",
       "      <td>7+</td>\n",
       "      <td>4.7</td>\n",
       "      <td>NaN</td>\n",
       "      <td>0</td>\n",
       "      <td>0</td>\n",
       "      <td>0</td>\n",
       "      <td>1</td>\n",
       "      <td>...</td>\n",
       "      <td>0</td>\n",
       "      <td>0</td>\n",
       "      <td>0</td>\n",
       "      <td>1</td>\n",
       "      <td>0</td>\n",
       "      <td>0</td>\n",
       "      <td>0</td>\n",
       "      <td>0</td>\n",
       "      <td>0</td>\n",
       "      <td>0</td>\n",
       "    </tr>\n",
       "    <tr>\n",
       "      <th>16741</th>\n",
       "      <td>16742</td>\n",
       "      <td>Sharks of Lost Island</td>\n",
       "      <td>2013</td>\n",
       "      <td>NaN</td>\n",
       "      <td>5.7</td>\n",
       "      <td>NaN</td>\n",
       "      <td>0</td>\n",
       "      <td>0</td>\n",
       "      <td>0</td>\n",
       "      <td>1</td>\n",
       "      <td>...</td>\n",
       "      <td>0</td>\n",
       "      <td>0</td>\n",
       "      <td>0</td>\n",
       "      <td>0</td>\n",
       "      <td>0</td>\n",
       "      <td>0</td>\n",
       "      <td>0</td>\n",
       "      <td>0</td>\n",
       "      <td>0</td>\n",
       "      <td>0</td>\n",
       "    </tr>\n",
       "    <tr>\n",
       "      <th>16742</th>\n",
       "      <td>16743</td>\n",
       "      <td>Man Among Cheetahs</td>\n",
       "      <td>2017</td>\n",
       "      <td>NaN</td>\n",
       "      <td>6.6</td>\n",
       "      <td>NaN</td>\n",
       "      <td>0</td>\n",
       "      <td>0</td>\n",
       "      <td>0</td>\n",
       "      <td>1</td>\n",
       "      <td>...</td>\n",
       "      <td>0</td>\n",
       "      <td>0</td>\n",
       "      <td>0</td>\n",
       "      <td>0</td>\n",
       "      <td>0</td>\n",
       "      <td>0</td>\n",
       "      <td>0</td>\n",
       "      <td>0</td>\n",
       "      <td>0</td>\n",
       "      <td>0</td>\n",
       "    </tr>\n",
       "    <tr>\n",
       "      <th>16743</th>\n",
       "      <td>16744</td>\n",
       "      <td>In Beaver Valley</td>\n",
       "      <td>1950</td>\n",
       "      <td>NaN</td>\n",
       "      <td>NaN</td>\n",
       "      <td>NaN</td>\n",
       "      <td>0</td>\n",
       "      <td>0</td>\n",
       "      <td>0</td>\n",
       "      <td>1</td>\n",
       "      <td>...</td>\n",
       "      <td>0</td>\n",
       "      <td>0</td>\n",
       "      <td>0</td>\n",
       "      <td>0</td>\n",
       "      <td>1</td>\n",
       "      <td>0</td>\n",
       "      <td>0</td>\n",
       "      <td>0</td>\n",
       "      <td>0</td>\n",
       "      <td>0</td>\n",
       "    </tr>\n",
       "  </tbody>\n",
       "</table>\n",
       "<p>16744 rows × 43 columns</p>\n",
       "</div>"
      ],
      "text/plain": [
       "          ID                           Title  Year  Age  IMDb Rotten Tomatoes  \\\n",
       "0          1                       Inception  2010  13+   8.8             87%   \n",
       "1          2                      The Matrix  1999  18+   8.7             87%   \n",
       "2          3          Avengers: Infinity War  2018  13+   8.5             84%   \n",
       "3          4              Back to the Future  1985   7+   8.5             96%   \n",
       "4          5  The Good, the Bad and the Ugly  1966  18+   8.8             97%   \n",
       "...      ...                             ...   ...  ...   ...             ...   \n",
       "16739  16740       The Ghosts of Buxley Hall  1980  NaN   6.2             NaN   \n",
       "16740  16741                  The Poof Point  2001   7+   4.7             NaN   \n",
       "16741  16742           Sharks of Lost Island  2013  NaN   5.7             NaN   \n",
       "16742  16743              Man Among Cheetahs  2017  NaN   6.6             NaN   \n",
       "16743  16744                In Beaver Valley  1950  NaN   NaN             NaN   \n",
       "\n",
       "       Netflix  Hulu  Prime Video  Disney+  ...  News Reality-TV Romance  \\\n",
       "0            1     0            0        0  ...     0          0       0   \n",
       "1            1     0            0        0  ...     0          0       0   \n",
       "2            1     0            0        0  ...     0          0       0   \n",
       "3            1     0            0        0  ...     0          0       0   \n",
       "4            1     0            1        0  ...     0          0       0   \n",
       "...        ...   ...          ...      ...  ...   ...        ...     ...   \n",
       "16739        0     0            0        1  ...     0          0       0   \n",
       "16740        0     0            0        1  ...     0          0       0   \n",
       "16741        0     0            0        1  ...     0          0       0   \n",
       "16742        0     0            0        1  ...     0          0       0   \n",
       "16743        0     0            0        1  ...     0          0       0   \n",
       "\n",
       "      Sci-Fi Short  Sport  Talk-Show  Thriller  War  Western  \n",
       "0          1     0      0          0         1    0        0  \n",
       "1          1     0      0          0         0    0        0  \n",
       "2          1     0      0          0         0    0        0  \n",
       "3          1     0      0          0         0    0        0  \n",
       "4          0     0      0          0         0    0        1  \n",
       "...      ...   ...    ...        ...       ...  ...      ...  \n",
       "16739      0     0      0          0         0    0        0  \n",
       "16740      1     0      0          0         0    0        0  \n",
       "16741      0     0      0          0         0    0        0  \n",
       "16742      0     0      0          0         0    0        0  \n",
       "16743      0     1      0          0         0    0        0  \n",
       "\n",
       "[16744 rows x 43 columns]"
      ]
     },
     "execution_count": 17,
     "metadata": {},
     "output_type": "execute_result"
    }
   ],
   "source": [
    "df1 = pd.read_csv(\"movie_data.csv\")\n",
    "df1"
   ]
  },
  {
   "cell_type": "code",
   "execution_count": 18,
   "id": "2b72cf26",
   "metadata": {},
   "outputs": [],
   "source": [
    "from sklearn.preprocessing import StandardScaler\n",
    "scaler = StandardScaler()"
   ]
  },
  {
   "cell_type": "code",
   "execution_count": 19,
   "id": "3941b521",
   "metadata": {},
   "outputs": [
    {
     "name": "stderr",
     "output_type": "stream",
     "text": [
      "/var/folders/2z/zx6mmm3n6c799sd_qdnt48s00000gn/T/ipykernel_68542/114245895.py:6: SettingWithCopyWarning: \n",
      "A value is trying to be set on a copy of a slice from a DataFrame\n",
      "\n",
      "See the caveats in the documentation: https://pandas.pydata.org/pandas-docs/stable/user_guide/indexing.html#returning-a-view-versus-a-copy\n",
      "  vec[i] = averaged_runtime\n"
     ]
    }
   ],
   "source": [
    "#average\n",
    "averaged_runtime = np.mean(df1[\"Runtime\"])\n",
    "vec = df1[\"Runtime\"]\n",
    "for i in range(len(vec)):\n",
    "    if (np.isnan(vec[i])):\n",
    "        vec[i] = averaged_runtime\n",
    "vec = np.array(vec)\n",
    "vec = vec.reshape(-1,1)\n",
    "scaler.fit(vec)\n",
    "vec = scaler.transform(vec)\n",
    "df1[\"Runtime\"] = vec"
   ]
  },
  {
   "cell_type": "code",
   "execution_count": 20,
   "id": "4d403a96",
   "metadata": {},
   "outputs": [],
   "source": [
    "vec = df1[\"Year\"]\n",
    "vec = max(df1[\"Year\"])-df1[\"Year\"]\n",
    "df1[\"Year\"] = vec"
   ]
  },
  {
   "cell_type": "code",
   "execution_count": 21,
   "id": "72465098",
   "metadata": {},
   "outputs": [],
   "source": [
    "df1 = df1.drop(columns=[\"Rotten Tomatoes\",\"Age\",\"Type\"])\n",
    "df1 = df1.dropna()"
   ]
  },
  {
   "cell_type": "code",
   "execution_count": 22,
   "id": "5be79c56",
   "metadata": {},
   "outputs": [],
   "source": [
    "# Add genres as categories and then merge the dataframes\n",
    "country= df1['Country'].str.get_dummies(',')\n",
    "df1 = pd.concat([df1, country],axis=1,sort=False)\n",
    "del df1[df1. columns[-1]]"
   ]
  },
  {
   "cell_type": "code",
   "execution_count": 23,
   "id": "53e1c98d",
   "metadata": {},
   "outputs": [],
   "source": [
    "language = df1['Language'].str.get_dummies(',')\n",
    "df1 = pd.concat([df1, language],axis=1,sort=False)\n",
    "del df1[df1. columns[-1]]"
   ]
  },
  {
   "cell_type": "code",
   "execution_count": 24,
   "id": "1c4787a6",
   "metadata": {},
   "outputs": [
    {
     "name": "stdout",
     "output_type": "stream",
     "text": [
      "Requirement already satisfied: xgboost in /Users/a86158/opt/anaconda3/lib/python3.9/site-packages (1.7.4)\n",
      "Requirement already satisfied: numpy in /Users/a86158/opt/anaconda3/lib/python3.9/site-packages (from xgboost) (1.21.5)\n",
      "Requirement already satisfied: scipy in /Users/a86158/opt/anaconda3/lib/python3.9/site-packages (from xgboost) (1.9.1)\n",
      "Note: you may need to restart the kernel to use updated packages.\n"
     ]
    }
   ],
   "source": [
    "import numpy as np\n",
    "import pandas as pd\n",
    "import multiprocessing\n",
    "import math \n",
    "%pip install xgboost\n",
    "import xgboost as xgb\n",
    "from numpy import mean\n",
    "from statistics import variance\n",
    "from numpy import std\n",
    "from sklearn.decomposition import PCA\n",
    "from pandas import read_csv\n",
    "from sklearn.impute import KNNImputer\n",
    "from sklearn.model_selection import cross_val_score\n",
    "from sklearn.model_selection import KFold\n",
    "from sklearn.pipeline import Pipeline\n",
    "from sklearn.ensemble import RandomForestRegressor\n",
    "from sklearn.model_selection import train_test_split\n",
    "from sklearn.preprocessing import StandardScaler\n",
    "from sklearn.pipeline import Pipeline\n",
    "from sklearn.linear_model import LinearRegression\n",
    "from sklearn.linear_model import Ridge, RidgeCV, Lasso, LassoCV, ElasticNet, ElasticNetCV\n",
    "from sklearn.tree import DecisionTreeRegressor\n",
    "from sklearn.svm import SVR\n",
    "from sklearn.metrics import mean_squared_error\n",
    "from sklearn.metrics import mean_absolute_error as mae\n",
    "from sklearn.ensemble import RandomForestRegressor\n",
    "from sklearn.neighbors import KNeighborsRegressor\n",
    "from sklearn.model_selection import GridSearchCV\n",
    "from sklearn.ensemble import AdaBoostRegressor\n",
    "from sklearn.ensemble import GradientBoostingRegressor\n",
    "import warnings\n",
    "from matplotlib import pyplot as plt "
   ]
  },
  {
   "cell_type": "code",
   "execution_count": 25,
   "id": "022e416d",
   "metadata": {},
   "outputs": [],
   "source": [
    "def model_assess(tuned_model,X_train,y_train,X_test,y_test):\n",
    "    y_train_pred=tuned_model.predict(X_train)\n",
    "    y_test_pred=tuned_model.predict(X_test)\n",
    "    train_R2 = tuned_model.score(X_train, y_train)\n",
    "    test_R2 = tuned_model.score(X_test, y_test)\n",
    "    train_RMSE=round(math.sqrt(mean_squared_error(y_train_pred,y_train)),4)\n",
    "    test_RMSE=round(math.sqrt(mean_squared_error(y_test_pred,y_test)),4)\n",
    "    train_MAE=round(mae(y_train_pred,ytrain),4)\n",
    "    test_MAE=round(mae(y_test_pred,ytest),4)\n",
    "    return([train_R2,test_R2,train_RMSE,test_RMSE,train_MAE,test_MAE])"
   ]
  },
  {
   "cell_type": "code",
   "execution_count": 26,
   "id": "d9298bc5",
   "metadata": {},
   "outputs": [],
   "source": [
    "y = df1['IMDb']\n",
    "X=df1.drop(columns=['ID','Title','IMDb','Directors','Genres','Country','Language'])\n",
    "Xtrain,Xtest,ytrain,ytest=train_test_split(X,y,test_size=0.2,random_state=4011)"
   ]
  },
  {
   "cell_type": "markdown",
   "id": "e754d53a",
   "metadata": {},
   "source": [
    "## Ordinary Least Squared"
   ]
  },
  {
   "cell_type": "code",
   "execution_count": 27,
   "id": "28a10cc3",
   "metadata": {},
   "outputs": [
    {
     "data": {
      "text/plain": [
       "[0.3608684064512263,\n",
       " -27850027958096.273,\n",
       " 1.0719,\n",
       " 7133974.4877,\n",
       " 0.8314,\n",
       " 184777.7621]"
      ]
     },
     "execution_count": 27,
     "metadata": {},
     "output_type": "execute_result"
    }
   ],
   "source": [
    "model_ols = LinearRegression().fit(Xtrain, ytrain)\n",
    "ols_result=model_assess(model_ols,Xtrain,ytrain,Xtest,ytest)\n",
    "ols_result"
   ]
  },
  {
   "cell_type": "markdown",
   "id": "fd710bfa",
   "metadata": {},
   "source": [
    "## Lasso"
   ]
  },
  {
   "cell_type": "code",
   "execution_count": 28,
   "id": "ad31a7e6",
   "metadata": {},
   "outputs": [
    {
     "data": {
      "text/plain": [
       "[0.35145287264793756, 0.362916789753323, 1.0798, 1.079, 0.841, 0.8382]"
      ]
     },
     "execution_count": 28,
     "metadata": {},
     "output_type": "execute_result"
    }
   ],
   "source": [
    "model_lasso = LassoCV(cv=5, random_state=4011,n_jobs= 1,alphas=np.logspace(-6,-2,100),tol=1e-3,max_iter=1000000000).fit(Xtrain, ytrain)\n",
    "lasso_result=model_assess(model_lasso,Xtrain,ytrain,Xtest,ytest)\n",
    "lasso_result"
   ]
  },
  {
   "cell_type": "code",
   "execution_count": 29,
   "id": "5c657c03",
   "metadata": {},
   "outputs": [
    {
     "name": "stdout",
     "output_type": "stream",
     "text": [
      "[(0.009362606082739656, 'Year'), (0.3667661925161812, 'Netflix'), (0.32522043818384444, 'Hulu'), (-0.054513666918633324, 'Prime Video'), (0.6082368577313993, 'Disney+'), (0.25832242986794474, 'Runtime'), (-0.3801881949051493, 'Action'), (-0.136451641839069, 'Adventure'), (0.5474295947026333, 'Animation'), (0.2398378321130434, 'Biography'), (0.17743687383591283, 'Comedy'), (0.021083494546778245, 'Crime'), (1.3796538907919842, 'Documentary'), (0.35832169446356643, 'Drama'), (-0.09711358773648952, 'Family'), (-0.042603559158681734, 'Fantasy'), (0.36204980626082534, 'Film-Noir'), (0.0, 'Game-Show'), (0.16556584584746653, 'History'), (-0.7267960187473147, 'Horror'), (0.24608994429846773, 'Music'), (-0.03903809079455816, 'Musical'), (0.11667040443216624, 'Mystery'), (0.18704823066352144, 'News'), (0.0, 'Reality-TV'), (-0.045488827549751726, 'Romance'), (-0.3373074294368502, 'Sci-Fi'), (0.9051088473284908, 'Short'), (0.07236295078099446, 'Sport'), (-0.0, 'Talk-Show'), (-0.10599577118785738, 'Thriller'), (-0.004245032633548504, 'War'), (0.12877290655593598, 'Western'), (0.0, 'Afghanistan'), (-0.0, 'Albania'), (-0.0, 'Algeria'), (0.0, 'Angola'), (-0.05364122420622209, 'Argentina'), (-0.0, 'Armenia'), (-0.0, 'Aruba'), (0.12059603323960769, 'Australia'), (0.017305510492083443, 'Austria'), (-0.0, 'Azerbaijan'), (0.0, 'Bahamas'), (-0.0, 'Bahrain'), (0.0, 'Bangladesh'), (0.0, 'Belarus'), (0.13040565729538098, 'Belgium'), (0.0, 'Bermuda'), (-0.0, 'Bolivia'), (0.4841855028939989, 'Bosnia and Herzegovina'), (0.0, 'Botswana'), (-0.0, 'Brazil'), (-0.0, 'Bulgaria'), (0.0, 'Burkina Faso'), (0.0, 'Cambodia'), (0.0, 'Cameroon'), (0.014174679742233987, 'Canada'), (-0.0, 'Cayman Islands'), (0.0, 'Chad'), (-0.310977817724011, 'Chile'), (-0.14701200613265514, 'China'), (-0.03648534045593497, 'Colombia'), (0.0, 'Congo'), (0.0, 'Costa Rica'), (0.2705134746965654, 'Croatia'), (0.0, 'Cuba'), (0.0, 'Cyprus'), (0.0, 'Czech Republic'), (0.0, 'Czechoslovakia'), (-0.0, \"Côte d'Ivoire\"), (0.18795547171264515, 'Denmark'), (0.0, 'Djibouti'), (0.053500412140177006, 'Dominican Republic'), (0.0, 'East Germany'), (0.16107335666130607, 'Ecuador'), (-0.912256997936364, 'Egypt'), (-0.0, 'El Salvador'), (-0.0, 'Equatorial Guinea'), (-0.0, 'Estonia'), (0.0, 'Ethiopia'), (0.0, 'Federal Republic of Yugoslavia'), (0.15544910950255814, 'Finland'), (0.13604320939155087, 'France'), (0.0, 'Georgia'), (0.001503064217397958, 'Germany'), (0.31347009801256454, 'Ghana'), (0.0, 'Greece'), (0.1819647908484064, 'Guam'), (-0.0, 'Guatemala'), (0.0, 'Haiti'), (-0.0, 'Holy See (Vatican City State)'), (-0.0, 'Honduras'), (-0.031741764503154433, 'Hong Kong'), (0.09140683679222415, 'Hungary'), (0.15378441280002422, 'Iceland'), (0.017711538572984322, 'India'), (0.0, 'Indonesia'), (0.0991622320181421, 'Iran'), (0.0, 'Iraq'), (0.1320919045356607, 'Ireland'), (0.0, 'Isle Of Man'), (-0.27040160722772055, 'Israel'), (-0.316250572486642, 'Italy'), (0.0, 'Jamaica'), (0.38789534966857936, 'Japan'), (0.1628139091420773, 'Jordan'), (0.0, 'Kazakhstan'), (0.8140549204178573, 'Kenya'), (-0.0, 'Kosovo'), (0.0, 'Kuwait'), (0.0, 'Kyrgyzstan'), (0.0, 'Laos'), (-0.0, 'Latvia'), (0.0, 'Lebanon'), (0.0, 'Liberia'), (0.0, 'Libya'), (-0.0, 'Liechtenstein'), (-0.0, 'Lithuania'), (0.024825392196571625, 'Luxembourg'), (0.0, 'Macao'), (0.0, 'Malawi'), (-0.0, 'Malaysia'), (-0.0, 'Malta'), (0.018359369635308837, 'Mexico'), (0.0, 'Moldova'), (-0.0, 'Monaco'), (0.0, 'Mongolia'), (-0.0, 'Montenegro'), (0.0, 'Morocco'), (-0.0, 'Mozambique'), (0.0, 'Namibia'), (0.0, 'Nepal'), (0.0, 'Netherlands'), (0.4516189870365455, 'New Zealand'), (-0.0, 'Nicaragua'), (-0.08519945298549075, 'Nigeria'), (0.20366684294108975, 'Norway'), (0.0, 'Oman'), (0.16566472447834954, 'Pakistan'), (0.0, 'Palestine'), (-0.0, 'Panama'), (0.0, 'Papua New Guinea'), (-0.0, 'Paraguay'), (-0.0, 'Peru'), (-0.1518565984735003, 'Philippines'), (-0.0, 'Poland'), (0.26847543482532776, 'Portugal'), (-0.0, 'Puerto Rico'), (0.17522911146096487, 'Qatar'), (0.0, 'Republic of North Macedonia'), (-0.0, 'Reunion'), (-0.06892724917804044, 'Romania'), (-0.08403803609609144, 'Russia'), (0.06440804805456796, 'Rwanda'), (0.0, 'Saudi Arabia'), (-0.0, 'Senegal'), (-0.0, 'Serbia'), (0.0, 'Serbia and Montenegro'), (-0.0585276626515625, 'Singapore'), (-0.0, 'Slovakia'), (0.0, 'Slovenia'), (0.0, 'Somalia'), (-0.05911548438697974, 'South Africa'), (0.20399197323198434, 'South Korea'), (0.0, 'Soviet Union'), (-0.1347771672116709, 'Spain'), (0.0, 'Sri Lanka'), (0.0, 'Sudan'), (-0.0, 'Swaziland'), (0.14438942199060228, 'Sweden'), (0.0, 'Switzerland'), (-0.0, 'Syria'), (-0.0, 'Taiwan'), (0.0, 'Tajikistan'), (0.0, 'Tanzania'), (-0.0, 'Thailand'), (-0.0, 'The Democratic Republic Of Congo'), (0.0, 'Tonga'), (-0.0, 'Trinidad and Tobago'), (0.0, 'Tunisia'), (-0.0, 'Turkey'), (0.0, 'Uganda'), (0.24186553666028884, 'Ukraine'), (-0.03000028498079033, 'United Arab Emirates'), (0.1966201449693227, 'United Kingdom'), (-0.039986629176096786, 'United States'), (0.0, 'Uruguay'), (-0.0, 'Venezuela'), (0.0, 'Vietnam'), (-0.0, 'West Germany'), (0.0, 'Yemen'), (-0.0, 'Yugoslavia'), (-0.0, 'Zambia'), (-0.0, ' Ancient (to 1453)'), (0.0023301926369089145, 'Aboriginal'), (0.0, 'Afrikaans'), (0.0, 'Akan'), (-0.0, 'Albanian'), (-0.0, 'Algonquin'), (0.23113629652063997, 'American Sign Language'), (-0.0, 'Amharic'), (-0.0, 'Apache languages'), (-0.004329069646026785, 'Arabic'), (0.0, 'Aragonese'), (-0.0, 'Aramaic'), (-0.0, 'Armenian'), (0.0, 'Assamese'), (0.0, 'Assyrian Neo-Aramaic'), (0.0, 'Athapascan languages'), (0.0, 'Australian Sign Language'), (-0.0, 'Awadhi'), (-0.0, 'Azerbaijani'), (-0.0, 'Basque'), (0.0, 'Belarusian'), (-0.0, 'Bemba'), (0.18282855461795233, 'Bengali'), (0.0, 'Berber languages'), (-0.0, 'Bhojpuri'), (0.4178339498271531, 'Bosnian'), (0.0, 'Brazilian Sign Language'), (-0.0, 'British Sign Language'), (0.0, 'Bulgarian'), (0.2962421776386934, 'Cantonese'), (0.0, 'Catalan'), (0.0, 'Chechen'), (0.0, 'Cheyenne'), (-0.0, 'Chinese'), (0.0, 'Cornish'), (0.0, 'Creek'), (0.05130181181452418, 'Croatian'), (0.0, 'Czech'), (0.08906978935039687, 'Danish'), (0.08204049138529076, 'Dari'), (0.171936931059058, 'Dutch'), (0.0, 'Dyula'), (0.0, 'East-Greenlandic'), (-0.24388490658585701, 'English'), (0.0, 'Esperanto'), (0.0, 'Estonian'), (0.0, 'Ewe'), (0.07351169038153045, 'Filipino'), (-0.0, 'Finnish'), (-0.0, 'Flemish'), (0.10839866418173029, 'French'), (-0.0, 'French Sign Language'), (0.0, 'Fulah'), (0.0, 'Gallegan'), (0.14685365538347744, 'Georgian'), (0.04609107812639895, 'German'), (0.14459066659075784, 'Greek'), (0.0, 'Greenlandic'), (-0.0, 'Guarani'), (0.0, 'Gujarati'), (0.0, 'Haitian'), (0.0, 'Hakka'), (0.0, 'Haryanvi'), (0.0, 'Hausa'), (0.0, 'Hawaiian'), (0.6120468523154498, 'Hebrew'), (-0.19447733503495257, 'Hindi'), (0.0, 'Hungarian'), (0.0, 'Ibo'), (0.0, 'Icelandic'), (0.2380403588457025, 'Indonesian'), (0.2947061210208936, 'Inuktitut'), (0.4729187666637114, 'Irish'), (0.21440238279001786, 'Italian'), (0.17217053189010628, 'Japanese'), (0.0, 'Japanese Sign Language'), (0.0, 'Kabyle'), (0.784581033058798, 'Kannada'), (0.0, 'Kazakh'), (0.0, 'Khmer'), (0.0, 'Kinyarwanda'), (0.0, 'Kirghiz'), (0.15755942221583805, 'Klingon'), (0.2086826876076648, 'Korean'), (0.0, 'Kriolu'), (0.0, 'Kudmali'), (0.0, 'Kurdish'), (0.0, 'Lao'), (0.2969702091041823, 'Latin'), (-0.0, 'Latvian'), (-0.0, 'Lingala'), (0.0, 'Lithuanian'), (0.0, 'Low German'), (-0.0, 'Luxembourgish'), (-0.0, 'Macedonian'), (-0.26425649226615155, 'Malay'), (-0.1602000530231659, 'Malayalam'), (0.0, 'Maltese'), (0.35595483015362533, 'Mandarin'), (-0.0, 'Manipuri'), (-0.0, 'Maori'), (0.0, 'Mapudungun'), (0.3266096570922553, 'Marathi'), (0.0, 'Masai'), (0.0, 'Maya'), (0.0, 'Micmac'), (0.0, 'Middle English'), (0.0, 'Min Nan'), (0.0, 'Minangkabau'), (0.0, 'Mixtec'), (-0.0, 'Mohawk'), (0.0, 'Mongolian'), (0.0, 'More'), (0.0, 'Nama'), (0.0, 'Navajo'), (0.9269887543801061, 'Nepali'), (0.09198668532737461, 'None'), (0.0, 'North American Indian'), (0.0, 'Norwegian'), (-0.0, 'Nushi'), (0.0, 'Nyanja'), (-0.0, 'Occitan'), (0.0, 'Papiamento'), (0.4600325756871117, 'Persian'), (0.011355919497470163, 'Polish'), (0.0, 'Polynesian'), (-0.0015332898461778662, 'Portuguese'), (-0.1396969977523207, 'Punjabi'), (0.0, 'Pushto'), (0.0, 'Quechua'), (0.0, 'Rajasthani'), (0.5238668835824816, 'Romanian'), (0.0, 'Romany'), (0.24742244794487542, 'Russian'), (0.0, 'Saami'), (0.0, 'Sanskrit'), (0.0, 'Scots'), (0.0, 'Scottish Gaelic'), (0.012754821820179507, 'Serbian'), (0.0, 'Serbo-Croatian'), (0.0, 'Shanghainese'), (0.0, 'Sicilian'), (0.0, 'Sign Languages'), (0.26640976665132665, 'Sinhalese'), (0.0, 'Sioux'), (0.0, 'Slovak'), (0.0, 'Slovenian'), (0.0, 'Somali'), (0.0, 'Southern Sotho'), (0.08063772077727668, 'Spanish'), (0.0, 'Spanish Sign Language'), (0.09451662933133609, 'Swahili'), (0.0, 'Swedish'), (0.5035494080861249, 'Swiss German'), (0.20529035558848358, 'Tagalog'), (0.0, 'Tajik'), (0.11832169624865953, 'Tamil'), (-0.0, 'Tarahumara'), (0.0, 'Tatar'), (0.29336740142939716, 'Telugu'), (-0.0, 'Teochew'), (0.11710656988808639, 'Thai'), (0.0, 'Tibetan'), (0.0, 'Tupi'), (0.061750957360157996, 'Turkish'), (-0.0, 'Turkmen'), (0.0, 'Uighur'), (0.0, 'Ukrainian'), (0.054057614565700296, 'Urdu'), (0.3057344572145029, 'Vietnamese'), (0.0, 'Welsh'), (-0.0, 'Wolof'), (1.1333129040243937, 'Xhosa'), (-0.0, 'Yiddish'), (0.0, 'Yoruba')]\n"
     ]
    }
   ],
   "source": [
    "# step 4: examine if coefficients are shrinked towards 0; only for Lasso and Ridge regression\n",
    "print(list(zip(model_lasso.coef_, X))) "
   ]
  },
  {
   "cell_type": "markdown",
   "id": "8eb5dd7a",
   "metadata": {},
   "source": [
    "## Ridge"
   ]
  },
  {
   "cell_type": "code",
   "execution_count": 30,
   "id": "d56bc9a6",
   "metadata": {},
   "outputs": [
    {
     "data": {
      "text/plain": [
       "12.61856883066021"
      ]
     },
     "execution_count": 30,
     "metadata": {},
     "output_type": "execute_result"
    }
   ],
   "source": [
    "model_ridge = RidgeCV(cv=5,alphas=np.logspace(-1,3,100)).fit(Xtrain, ytrain)\n",
    "model_ridge.alpha_ "
   ]
  },
  {
   "cell_type": "code",
   "execution_count": 31,
   "id": "d286a836",
   "metadata": {},
   "outputs": [
    {
     "data": {
      "text/plain": [
       "[0.35278831022572266, 0.36383657507047973, 1.0787, 1.0782, 0.8402, 0.8374]"
      ]
     },
     "execution_count": 31,
     "metadata": {},
     "output_type": "execute_result"
    }
   ],
   "source": [
    "ridge_result=model_assess(model_ridge,Xtrain,ytrain,Xtest,ytest)\n",
    "ridge_result"
   ]
  },
  {
   "cell_type": "code",
   "execution_count": 32,
   "id": "3843f447",
   "metadata": {},
   "outputs": [
    {
     "name": "stdout",
     "output_type": "stream",
     "text": [
      "[(0.009365338390470488, 'Year'), (0.3482781038327202, 'Netflix'), (0.30903320022770603, 'Hulu'), (-0.07458035595546166, 'Prime Video'), (0.5839855735949107, 'Disney+'), (0.25257731542785955, 'Runtime'), (-0.37981398763418706, 'Action'), (-0.13344298613250347, 'Adventure'), (0.5361583182756671, 'Animation'), (0.24057591531391873, 'Biography'), (0.17330118087629856, 'Comedy'), (0.02328128850320408, 'Crime'), (1.3617218483859537, 'Documentary'), (0.35384388131233474, 'Drama'), (-0.09702328606420002, 'Family'), (-0.04563515625905472, 'Fantasy'), (0.3401893012445619, 'Film-Noir'), (0.0, 'Game-Show'), (0.17116792816336712, 'History'), (-0.7258281304834835, 'Horror'), (0.2509983625047293, 'Music'), (-0.042658170374431446, 'Musical'), (0.11912204479405009, 'Mystery'), (0.1942568442856856, 'News'), (0.04305046357104234, 'Reality-TV'), (-0.04822555759274556, 'Romance'), (-0.3359479417249898, 'Sci-Fi'), (0.8595615308945199, 'Short'), (0.0805544057867454, 'Sport'), (-0.07776359196227678, 'Talk-Show'), (-0.11153973825087715, 'Thriller'), (-0.02056136252299244, 'War'), (0.12633629469169189, 'Western'), (0.08368578231191458, 'Afghanistan'), (0.0017579151291214651, 'Albania'), (0.004162157715251986, 'Algeria'), (0.035982214582525075, 'Angola'), (-0.08948929182689845, 'Argentina'), (-0.1644882411574253, 'Armenia'), (-0.0708474569778714, 'Aruba'), (0.12532034527320346, 'Australia'), (0.07574165032547073, 'Austria'), (-0.04446239050242743, 'Azerbaijan'), (0.08399131676249964, 'Bahamas'), (-0.016515203621091067, 'Bahrain'), (0.06610453443725071, 'Bangladesh'), (0.08836449409748934, 'Belarus'), (0.1370540523696256, 'Belgium'), (0.026183313771750448, 'Bermuda'), (-0.08300589867900293, 'Bolivia'), (0.3426447020720857, 'Bosnia and Herzegovina'), (0.0359822145825253, 'Botswana'), (0.013122567442190163, 'Brazil'), (-0.011269386077732986, 'Bulgaria'), (0.10279352181880032, 'Burkina Faso'), (0.09503022380896771, 'Cambodia'), (0.04207208466951847, 'Cameroon'), (0.02013976707300129, 'Canada'), (-0.08753060759504494, 'Cayman Islands'), (0.03565206650237328, 'Chad'), (-0.2845651478026854, 'Chile'), (-0.17065122138741876, 'China'), (-0.11271263217168474, 'Colombia'), (0.033970006013758894, 'Congo'), (0.006699238969721702, 'Costa Rica'), (0.22097846432171148, 'Croatia'), (0.0642967652984958, 'Cuba'), (0.016804683752410225, 'Cyprus'), (0.028464776113183893, 'Czech Republic'), (0.17708683736007158, 'Czechoslovakia'), (-0.17876694415007693, \"Côte d'Ivoire\"), (0.17041593474563668, 'Denmark'), (0.02286057178388326, 'Djibouti'), (0.19418466830038228, 'Dominican Republic'), (0.09778080456868311, 'East Germany'), (0.23079900311808335, 'Ecuador'), (-0.6966308554896306, 'Egypt'), (-0.014140508482753495, 'El Salvador'), (0.0007135271634290354, 'Equatorial Guinea'), (-0.12203158292342926, 'Estonia'), (0.004364378661751639, 'Ethiopia'), (0.12408400599183785, 'Federal Republic of Yugoslavia'), (0.19947874011902278, 'Finland'), (0.13500014390294546, 'France'), (0.1368792010292729, 'Georgia'), (-0.0012763880971650313, 'Germany'), (0.2724290716659299, 'Ghana'), (0.041395844343248, 'Greece'), (0.25298958306956454, 'Guam'), (-0.014328406726331766, 'Guatemala'), (0.13957932889599678, 'Haiti'), (-0.10484523397137904, 'Holy See (Vatican City State)'), (-0.06397480302910809, 'Honduras'), (-0.046181014770826305, 'Hong Kong'), (0.13887164923796483, 'Hungary'), (0.1702487509614264, 'Iceland'), (0.05889419495942301, 'India'), (0.09027559592648558, 'Indonesia'), (0.1808407351567293, 'Iran'), (0.06794132968448365, 'Iraq'), (0.15000125979516368, 'Ireland'), (0.19143269055615955, 'Isle Of Man'), (-0.2268069244344085, 'Israel'), (-0.30862289741838234, 'Italy'), (0.12251605818514548, 'Jamaica'), (0.37376472443782394, 'Japan'), (0.21780218090422257, 'Jordan'), (0.06173908635865766, 'Kazakhstan'), (0.3828755132549216, 'Kenya'), (-0.024331358252120912, 'Kosovo'), (0.018297525750024714, 'Kuwait'), (0.0, 'Kyrgyzstan'), (-0.03522846508812604, 'Laos'), (-0.06885266892718493, 'Latvia'), (0.16508620106131203, 'Lebanon'), (0.09266632887297509, 'Liberia'), (0.09187725623893259, 'Libya'), (-0.07432743546058122, 'Liechtenstein'), (-0.05165624220226136, 'Lithuania'), (0.12695768837163607, 'Luxembourg'), (0.0532086679898041, 'Macao'), (0.03132571992914081, 'Malawi'), (-0.09106970945011898, 'Malaysia'), (-0.04319833350064232, 'Malta'), (0.032912832879632564, 'Mexico'), (0.10923912224021518, 'Moldova'), (-0.04676551314484102, 'Monaco'), (0.1802148752675254, 'Mongolia'), (-0.016760401693855884, 'Montenegro'), (0.10579120532254459, 'Morocco'), (-0.07232016884583553, 'Mozambique'), (0.09107711090782787, 'Namibia'), (0.2409152787939798, 'Nepal'), (0.025569782840594565, 'Netherlands'), (0.4051154727782961, 'New Zealand'), (-0.008417251998934937, 'Nicaragua'), (-0.16455872291203424, 'Nigeria'), (0.18562820333610586, 'Norway'), (0.022860571783883215, 'Oman'), (0.16326663637318534, 'Pakistan'), (0.08392486639844837, 'Palestine'), (-0.01307251544321326, 'Panama'), (0.036906405097998134, 'Papua New Guinea'), (-0.003104652418261997, 'Paraguay'), (-0.05170056949753846, 'Peru'), (-0.20107144967560792, 'Philippines'), (-0.042569376489846565, 'Poland'), (0.2618212258708947, 'Portugal'), (-0.07915343995789656, 'Puerto Rico'), (0.20308247898947643, 'Qatar'), (0.16371279733949767, 'Republic of North Macedonia'), (-0.015256021015844827, 'Reunion'), (-0.09709507959678478, 'Romania'), (-0.125129633061727, 'Russia'), (0.18774133310279417, 'Rwanda'), (0.13094517490326546, 'Saudi Arabia'), (-0.0608900286637088, 'Senegal'), (-0.024505004347082703, 'Serbia'), (0.07560915054854153, 'Serbia and Montenegro'), (-0.15025741549549626, 'Singapore'), (-0.05927798694443243, 'Slovakia'), (0.08614182251150375, 'Slovenia'), (0.14517248686346235, 'Somalia'), (-0.11031594297965222, 'South Africa'), (0.20353865612723368, 'South Korea'), (0.014941060525857298, 'Soviet Union'), (-0.14505760016544333, 'Spain'), (0.11266991899812422, 'Sri Lanka'), (0.1757371544482398, 'Sudan'), (-0.0267364927515621, 'Swaziland'), (0.14893204693302267, 'Sweden'), (0.03313214127770556, 'Switzerland'), (-0.046053806605639604, 'Syria'), (-0.023900508835640467, 'Taiwan'), (0.0, 'Tajikistan'), (0.010187167828105954, 'Tanzania'), (-0.061818711537441506, 'Thailand'), (-0.02926774558630926, 'The Democratic Republic Of Congo'), (0.027359003926990342, 'Tonga'), (-0.07766369075228748, 'Trinidad and Tobago'), (0.09942954841500909, 'Tunisia'), (-0.0719928946533806, 'Turkey'), (0.07905594776004812, 'Uganda'), (0.23105554967417974, 'Ukraine'), (-0.0823575557760283, 'United Arab Emirates'), (0.19976572756624805, 'United Kingdom'), (-0.03703454007245681, 'United States'), (0.09916455176981334, 'Uruguay'), (-0.017820161800196233, 'Venezuela'), (0.042763250223938815, 'Vietnam'), (-0.009868634372754714, 'West Germany'), (0.02286057178388324, 'Yemen'), (-0.08551344985457035, 'Yugoslavia'), (-0.10384335838963947, 'Zambia'), (-0.14091065728226163, ' Ancient (to 1453)'), (0.17279785799113195, 'Aboriginal'), (0.14083972103264097, 'Afrikaans'), (0.11346102764026075, 'Akan'), (-0.05064547480420148, 'Albanian'), (-0.09191640338017493, 'Algonquin'), (0.24035039131804534, 'American Sign Language'), (-0.024507570815678614, 'Amharic'), (-0.011404332645610598, 'Apache languages'), (-0.08084630998126743, 'Arabic'), (0.03875449642455855, 'Aragonese'), (-0.02920732820058719, 'Aramaic'), (-0.09176324064049343, 'Armenian'), (0.0732437881012959, 'Assamese'), (0.06276578274858412, 'Assyrian Neo-Aramaic'), (0.0, 'Athapascan languages'), (0.0, 'Australian Sign Language'), (-0.041998443674302534, 'Awadhi'), (-0.04446239050242746, 'Azerbaijani'), (-0.11806077716890499, 'Basque'), (0.08109226168072561, 'Belarusian'), (-0.09819205219852838, 'Bemba'), (0.17945435590965095, 'Bengali'), (-0.0033301271207718157, 'Berber languages'), (-0.0370106223805198, 'Bhojpuri'), (0.31201944842028534, 'Bosnian'), (0.08066391699526418, 'Brazilian Sign Language'), (-0.10334686011129463, 'British Sign Language'), (0.016310699630480444, 'Bulgarian'), (0.3003592948839796, 'Cantonese'), (0.07818490272324968, 'Catalan'), (0.0, 'Chechen'), (0.04289639300352846, 'Cheyenne'), (0.005163345766263994, 'Chinese'), (0.10139055190682063, 'Cornish'), (0.057437312948763426, 'Creek'), (0.14182321049627844, 'Croatian'), (0.06672469308908337, 'Czech'), (0.14095985560411065, 'Danish'), (0.17503312758865358, 'Dari'), (0.18454410559428688, 'Dutch'), (0.03505571771154863, 'Dyula'), (0.048337808159945206, 'East-Greenlandic'), (-0.2368140350922255, 'English'), (0.1582931933423003, 'Esperanto'), (0.08802800664276242, 'Estonian'), (0.04122873761972226, 'Ewe'), (0.14419233327131772, 'Filipino'), (-0.028150642972908355, 'Finnish'), (-0.01158479282327213, 'Flemish'), (0.11125075808768517, 'French'), (-0.020602952978579264, 'French Sign Language'), (0.043043026906147974, 'Fulah'), (0.14799019811790856, 'Gallegan'), (0.2042376645344511, 'Georgian'), (0.055900619107151446, 'German'), (0.16612544489919404, 'Greek'), (0.0, 'Greenlandic'), (-0.013684600730962563, 'Guarani'), (0.14517661391986597, 'Gujarati'), (0.16291275937178185, 'Haitian'), (0.040031322163592294, 'Hakka'), (0.06522539611593639, 'Haryanvi'), (0.0, 'Hausa'), (0.10772856783597701, 'Hawaiian'), (0.5599900057008782, 'Hebrew'), (-0.21457355129590808, 'Hindi'), (0.0420901858824371, 'Hungarian'), (0.0, 'Ibo'), (0.09520474097549238, 'Icelandic'), (0.19063410405969003, 'Indonesian'), (0.25646813954896386, 'Inuktitut'), (0.3441513161819685, 'Irish'), (0.21401277198512447, 'Italian'), (0.1939948701234096, 'Japanese'), (0.042172097261033305, 'Japanese Sign Language'), (0.026796962477530346, 'Kabyle'), (0.5251818136655734, 'Kannada'), (0.052048948079403475, 'Kazakh'), (0.08438976614421916, 'Khmer'), (0.19260162411152992, 'Kinyarwanda'), (0.0, 'Kirghiz'), (0.23679272870940415, 'Klingon'), (0.22266723815638834, 'Korean'), (0.0387544964245585, 'Kriolu'), (0.015833145357136157, 'Kudmali'), (0.1476355869160794, 'Kurdish'), (0.05883840308783278, 'Lao'), (0.282717968421166, 'Latin'), (0.005487846833581373, 'Latvian'), (-0.02228700424514776, 'Lingala'), (0.011331531838609339, 'Lithuanian'), (0.03288516222388831, 'Low German'), (-0.07192709725006104, 'Luxembourgish'), (-0.025931491902133518, 'Macedonian'), (-0.21999869837783365, 'Malay'), (-0.1915908482974103, 'Malayalam'), (0.011411803559692377, 'Maltese'), (0.3727953700468206, 'Mandarin'), (0.03179684094277345, 'Manipuri'), (-0.04011922271929449, 'Maori'), (0.014306392293008145, 'Mapudungun'), (0.29267177409860023, 'Marathi'), (0.06432856585676248, 'Masai'), (0.05979384626727602, 'Maya'), (0.06211601733075581, 'Micmac'), (0.08876198146268148, 'Middle English'), (0.09382580196613205, 'Min Nan'), (0.01614230785524667, 'Minangkabau'), (0.03734643975628828, 'Mixtec'), (-0.044040695407419214, 'Mohawk'), (0.13743201849789827, 'Mongolian'), (0.052906213549637, 'More'), (0.06818298483894988, 'Nama'), (0.07739201405865337, 'Navajo'), (0.433387164285086, 'Nepali'), (0.18160400001556284, 'None'), (0.008868525282754015, 'North American Indian'), (0.07352903328360814, 'Norwegian'), (-0.17876694415007707, 'Nushi'), (0.20751365617600553, 'Nyanja'), (-0.038870421168065244, 'Occitan'), (0.1534854234404299, 'Papiamento'), (0.32978287432438846, 'Persian'), (0.08117973771070133, 'Polish'), (0.061221903397808065, 'Polynesian'), (-0.04706259822749236, 'Portuguese'), (-0.1748041646646757, 'Punjabi'), (0.12180390349984588, 'Pushto'), (0.16365919616142757, 'Quechua'), (0.03174518019076106, 'Rajasthani'), (0.4418991773545403, 'Romanian'), (0.0139788505052208, 'Romany'), (0.2501560972908897, 'Russian'), (0.13051186087044195, 'Saami'), (0.11646394189951557, 'Sanskrit'), (0.0, 'Scots'), (0.024028131122949745, 'Scottish Gaelic'), (0.13840110315292234, 'Serbian'), (0.06800170970490174, 'Serbo-Croatian'), (0.06555947013270441, 'Shanghainese'), (0.026045078538603626, 'Sicilian'), (0.04043803222109214, 'Sign Languages'), (0.2616653099358108, 'Sinhalese'), (0.07039029067378196, 'Sioux'), (0.10045563123380948, 'Slovak'), (0.07925418008897912, 'Slovenian'), (0.14252619882580927, 'Somali'), (0.11941546487648748, 'Southern Sotho'), (0.09165531386452387, 'Spanish'), (0.05123764652458647, 'Spanish Sign Language'), (0.20832808279811166, 'Swahili'), (0.025185975930741053, 'Swedish'), (0.35678877885405463, 'Swiss German'), (0.21097535179907248, 'Tagalog'), (0.0481579927463321, 'Tajik'), (0.12772295715989285, 'Tamil'), (-0.04698641667822007, 'Tarahumara'), (0.02357270307970127, 'Tatar'), (0.2796817528655781, 'Telugu'), (-0.04978828452217436, 'Teochew'), (0.20107576074152797, 'Thai'), (0.06625645936395076, 'Tibetan'), (0.0, 'Tupi'), (0.14793832317785274, 'Turkish'), (-0.024262881804956886, 'Turkmen'), (0.04923078257371292, 'Uighur'), (0.08022946888836564, 'Ukrainian'), (0.09788248919760695, 'Urdu'), (0.2741952265855336, 'Vietnamese'), (0.09897124243478364, 'Welsh'), (-0.009637909891453623, 'Wolof'), (0.5389312058536935, 'Xhosa'), (-0.014089304786352858, 'Yiddish'), (0.08627038475547952, 'Yoruba')]\n"
     ]
    }
   ],
   "source": [
    "#examine if coefficients are shrinked \n",
    "print(list(zip(model_ridge.coef_, X))) "
   ]
  },
  {
   "cell_type": "markdown",
   "id": "815f58a0",
   "metadata": {},
   "source": [
    "## SVR (Epsilon-Support Vector Regression)"
   ]
  },
  {
   "cell_type": "code",
   "execution_count": 33,
   "id": "59ff9ff7",
   "metadata": {},
   "outputs": [
    {
     "data": {
      "text/plain": [
       "{'kernel': 'linear'}"
      ]
     },
     "execution_count": 33,
     "metadata": {},
     "output_type": "execute_result"
    }
   ],
   "source": [
    "param_grid_svr = [\n",
    "    {'kernel': [\"linear\",\"poly\",\"rbf\",\"sigmoid\"]}]\n",
    "\n",
    "select_model_svr = GridSearchCV(SVR(),param_grid_svr, n_jobs=1, cv=5,scoring='neg_mean_squared_error',\n",
    "return_train_score=True)\n",
    "select_model_svr.fit(Xtrain, ytrain)\n",
    "\n",
    "model_svr = select_model_svr.best_estimator_\n",
    "select_model_svr.best_params_"
   ]
  },
  {
   "cell_type": "code",
   "execution_count": 34,
   "id": "320a8763",
   "metadata": {},
   "outputs": [
    {
     "data": {
      "text/plain": [
       "[0.3502414631225379, 0.35947067377887776, 1.0808, 1.0819, 0.827, 0.8356]"
      ]
     },
     "execution_count": 34,
     "metadata": {},
     "output_type": "execute_result"
    }
   ],
   "source": [
    "svr_result= model_assess(model_svr,Xtrain,ytrain,Xtest,ytest)\n",
    "svr_result "
   ]
  },
  {
   "cell_type": "markdown",
   "id": "ca53bb64",
   "metadata": {},
   "source": [
    "## Decision Tree"
   ]
  },
  {
   "cell_type": "code",
   "execution_count": 35,
   "id": "74361ac0",
   "metadata": {},
   "outputs": [
    {
     "data": {
      "text/plain": [
       "{'max_depth': 25,\n",
       " 'max_features': 70,\n",
       " 'max_leaf_nodes': 350,\n",
       " 'min_samples_leaf': 6,\n",
       " 'min_samples_split': 2}"
      ]
     },
     "execution_count": 35,
     "metadata": {},
     "output_type": "execute_result"
    }
   ],
   "source": [
    "param_grid_tree = {'max_depth':[25,30,35,40],'max_features': [60,70,80,90],'max_leaf_nodes': [350,400,450,500],\n",
    "                   'min_samples_leaf': [3,4,5,6],'min_samples_split': [2,3,4]}\n",
    "\n",
    "tree = DecisionTreeRegressor(random_state=4011)\n",
    "select_model_tree = GridSearchCV(tree, param_grid_tree, n_jobs=-1, cv=5,\n",
    "scoring='neg_mean_squared_error',\n",
    "return_train_score=True).fit(Xtrain, ytrain)\n",
    "\n",
    "model_tree_reg = select_model_tree.best_estimator_\n",
    "select_model_tree.best_params_"
   ]
  },
  {
   "cell_type": "code",
   "execution_count": 36,
   "id": "47046d3c",
   "metadata": {},
   "outputs": [
    {
     "data": {
      "text/plain": [
       "[0.40662898629974087, 0.33583237639424535, 1.0328, 1.1017, 0.7983, 0.851]"
      ]
     },
     "execution_count": 36,
     "metadata": {},
     "output_type": "execute_result"
    }
   ],
   "source": [
    "tree_reg_result = model_assess(model_tree_reg,Xtrain,ytrain,Xtest,ytest)\n",
    "tree_reg_result"
   ]
  },
  {
   "cell_type": "code",
   "execution_count": 37,
   "id": "9390bf9e",
   "metadata": {},
   "outputs": [
    {
     "data": {
      "text/plain": [
       "Text(0.5, 0, 'Feature Importance')"
      ]
     },
     "execution_count": 37,
     "metadata": {},
     "output_type": "execute_result"
    },
    {
     "data": {
      "image/png": "[encoded data removed]",
      "text/plain": [
       "<Figure size 640x480 with 1 Axes>"
      ]
     },
     "metadata": {},
     "output_type": "display_data"
    }
   ],
   "source": [
    "sort = model_tree_reg.feature_importances_.argsort()\n",
    "feature_importance_sorted = model_tree_reg.feature_importances_[sort]\n",
    "feature_sorted = X.columns[sort]\n",
    "plt.barh(feature_sorted[360:370], feature_importance_sorted[360:370])\n",
    "plt.xlabel(\"Feature Importance\")"
   ]
  },
  {
   "cell_type": "markdown",
   "id": "aeb0a736",
   "metadata": {},
   "source": [
    "## Random Forest"
   ]
  },
  {
   "cell_type": "code",
   "execution_count": 49,
   "id": "9cb3bc37",
   "metadata": {},
   "outputs": [
    {
     "data": {
      "text/plain": [
       "{'max_features': 30, 'n_estimators': 400}"
      ]
     },
     "execution_count": 49,
     "metadata": {},
     "output_type": "execute_result"
    }
   ],
   "source": [
    "param_grid_rfr = {'max_features': [10,20,30,40],'n_estimators': [200,400]} #128，132，136，140\n",
    "\n",
    "forest_reg = RandomForestRegressor(random_state=4011,max_depth=30)\n",
    "select_model_rfr = GridSearchCV(forest_reg, param_grid_rfr, n_jobs=-1, cv=5,\n",
    "scoring='neg_mean_squared_error',\n",
    "return_train_score=True).fit(Xtrain, ytrain)\n",
    "\n",
    "model_rfr = select_model_rfr.best_estimator_\n",
    "select_model_rfr.best_params_"
   ]
  },
  {
   "cell_type": "code",
   "execution_count": 50,
   "id": "e605ca11",
   "metadata": {},
   "outputs": [
    {
     "data": {
      "text/plain": [
       "[0.7730967911956466, 0.4373353208719818, 0.6387, 1.014, 0.4739, 0.7779]"
      ]
     },
     "execution_count": 50,
     "metadata": {},
     "output_type": "execute_result"
    }
   ],
   "source": [
    "rfr_result = model_assess(model_rfr,Xtrain,ytrain,Xtest,ytest)\n",
    "rfr_result"
   ]
  },
  {
   "cell_type": "code",
   "execution_count": 51,
   "id": "f49e424b",
   "metadata": {},
   "outputs": [
    {
     "data": {
      "text/plain": [
       "Text(0.5, 0, 'Feature Importance')"
      ]
     },
     "execution_count": 51,
     "metadata": {},
     "output_type": "execute_result"
    },
    {
     "data": {
      "image/png": "[encoded data removed]",
      "text/plain": [
       "<Figure size 640x480 with 1 Axes>"
      ]
     },
     "metadata": {},
     "output_type": "display_data"
    }
   ],
   "source": [
    "sort = model_rfr.feature_importances_.argsort()\n",
    "feature_importance_sorted = model_rfr.feature_importances_[sort]\n",
    "feature_sorted = X.columns[sort]\n",
    "plt.barh(feature_sorted[360:370], feature_importance_sorted[360:370])\n",
    "plt.xlabel(\"Feature Importance\")"
   ]
  },
  {
   "cell_type": "markdown",
   "id": "ae20eecb",
   "metadata": {},
   "source": [
    "## Tree with AdaBoost"
   ]
  },
  {
   "cell_type": "code",
   "execution_count": 52,
   "id": "74b4f356",
   "metadata": {},
   "outputs": [],
   "source": [
    "param_grid_ada = [\n",
    "    {'learning_rate': np.logspace(-1,1,10),'n_estimators': [400,800]}\n",
    "]"
   ]
  },
  {
   "cell_type": "code",
   "execution_count": 53,
   "id": "05ae352d",
   "metadata": {},
   "outputs": [
    {
     "data": {
      "text/plain": [
       "{'learning_rate': 0.1, 'n_estimators': 800}"
      ]
     },
     "execution_count": 53,
     "metadata": {},
     "output_type": "execute_result"
    }
   ],
   "source": [
    "ada_reg=AdaBoostRegressor(base_estimator=DecisionTreeRegressor(max_depth=30),random_state=4011)\n",
    "\n",
    "select_model_ada = GridSearchCV(ada_reg, param_grid_ada, n_jobs=-1, cv=5,\n",
    "scoring='neg_mean_squared_error',\n",
    "return_train_score=True).fit(Xtrain, ytrain)\n",
    "\n",
    "model_ada = select_model_ada.best_estimator_\n",
    "select_model_ada.best_params_"
   ]
  },
  {
   "cell_type": "code",
   "execution_count": 54,
   "id": "367827c5",
   "metadata": {},
   "outputs": [
    {
     "data": {
      "text/plain": [
       "[0.9023179768631121, 0.39006852294606487, 0.4191, 1.0557, 0.2571, 0.8023]"
      ]
     },
     "execution_count": 54,
     "metadata": {},
     "output_type": "execute_result"
    }
   ],
   "source": [
    "ada_result = model_assess(model_ada,Xtrain,ytrain,Xtest,ytest)\n",
    "ada_result"
   ]
  },
  {
   "cell_type": "code",
   "execution_count": 55,
   "id": "6200fcbe",
   "metadata": {},
   "outputs": [
    {
     "data": {
      "text/plain": [
       "Text(0.5, 0, 'Feature Importance')"
      ]
     },
     "execution_count": 55,
     "metadata": {},
     "output_type": "execute_result"
    },
    {
     "data": {
      "image/png": "[encoded data removed]",
      "text/plain": [
       "<Figure size 640x480 with 1 Axes>"
      ]
     },
     "metadata": {},
     "output_type": "display_data"
    }
   ],
   "source": [
    "sort = model_ada.feature_importances_.argsort()\n",
    "feature_importance_sorted = model_ada.feature_importances_[sort]\n",
    "feature_sorted = X.columns[sort]\n",
    "plt.barh(feature_sorted[360:370], feature_importance_sorted[360:370])\n",
    "plt.xlabel(\"Feature Importance\")"
   ]
  },
  {
   "cell_type": "markdown",
   "id": "6ee39127",
   "metadata": {},
   "source": [
    "## Tree with Gradient boosting"
   ]
  },
  {
   "cell_type": "code",
   "execution_count": 45,
   "id": "aa40ae54",
   "metadata": {},
   "outputs": [],
   "source": [
    "param_grid_gb = [\n",
    "    {'learning_rate':np.logspace(-2,0,10),'n_estimators':[130,150,170]}\n",
    "]"
   ]
  },
  {
   "cell_type": "code",
   "execution_count": 46,
   "id": "a0863b22",
   "metadata": {},
   "outputs": [
    {
     "data": {
      "text/plain": [
       "{'learning_rate': 0.01, 'n_estimators': 130}"
      ]
     },
     "execution_count": 46,
     "metadata": {},
     "output_type": "execute_result"
    }
   ],
   "source": [
    "GB_reg=GradientBoostingRegressor(max_depth=30)\n",
    "select_model_GB = GridSearchCV(GB_reg, param_grid_gb, n_jobs=-1, cv=5,\n",
    "scoring='neg_mean_squared_error',\n",
    "return_train_score=True).fit(Xtrain, ytrain)\n",
    "\n",
    "model_GB = select_model_GB.best_estimator_\n",
    "select_model_GB.best_params_"
   ]
  },
  {
   "cell_type": "code",
   "execution_count": 47,
   "id": "2467a476",
   "metadata": {},
   "outputs": [
    {
     "data": {
      "text/plain": [
       "[0.8974089142911389, 0.18493336573494767, 0.4295, 1.2204, 0.3311, 0.9405]"
      ]
     },
     "execution_count": 47,
     "metadata": {},
     "output_type": "execute_result"
    }
   ],
   "source": [
    "GB_result = model_assess(model_GB,Xtrain,ytrain,Xtest,ytest)\n",
    "GB_result"
   ]
  },
  {
   "cell_type": "code",
   "execution_count": 48,
   "id": "559f31a7",
   "metadata": {},
   "outputs": [
    {
     "data": {
      "text/plain": [
       "Text(0.5, 0, 'Feature Importance')"
      ]
     },
     "execution_count": 48,
     "metadata": {},
     "output_type": "execute_result"
    },
    {
     "data": {
      "image/png": "[encoded data removed]",
      "text/plain": [
       "<Figure size 640x480 with 1 Axes>"
      ]
     },
     "metadata": {},
     "output_type": "display_data"
    }
   ],
   "source": [
    "sort = model_GB.feature_importances_.argsort()\n",
    "feature_importance_sorted = model_GB.feature_importances_[sort]\n",
    "feature_sorted = X.columns[sort]\n",
    "plt.barh(feature_sorted[360:370], feature_importance_sorted[360:370])\n",
    "plt.xlabel(\"Feature Importance\")"
   ]
  }
 ],
 "metadata": {
  "kernelspec": {
   "display_name": "Python 3 (ipykernel)",
   "language": "python",
   "name": "python3"
  },
  "language_info": {
   "codemirror_mode": {
    "name": "ipython",
    "version": 3
   },
   "file_extension": ".py",
   "mimetype": "text/x-python",
   "name": "python",
   "nbconvert_exporter": "python",
   "pygments_lexer": "ipython3",
   "version": "3.9.13"
  }
 },
 "nbformat": 4,
 "nbformat_minor": 5
}
